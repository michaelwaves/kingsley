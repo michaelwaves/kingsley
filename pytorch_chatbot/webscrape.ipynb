{
 "cells": [
  {
   "cell_type": "code",
   "execution_count": 1,
   "metadata": {},
   "outputs": [],
   "source": [
    "from bs4 import BeautifulSoup\n",
    "from bs4 import Comment\n",
    "import requests\n",
    "import re\n",
    "import lxml"
   ]
  },
  {
   "attachments": {},
   "cell_type": "markdown",
   "metadata": {},
   "source": [
    "Creates input.txt by webscraping kingston website"
   ]
  },
  {
   "cell_type": "code",
   "execution_count": 14,
   "metadata": {},
   "outputs": [
    {
     "data": {
      "text/plain": [
       "200"
      ]
     },
     "execution_count": 14,
     "metadata": {},
     "output_type": "execute_result"
    }
   ],
   "source": [
    "url ='https://www.cityofkingston.ca/'\n",
    "\n",
    "html = requests.get(url, headers={\"User Agent\": \"Custom\"})\n",
    "html.status_code\n",
    "#print(html.text)\n"
   ]
  },
  {
   "cell_type": "code",
   "execution_count": 33,
   "metadata": {},
   "outputs": [],
   "source": [
    "#helper functions to get only visible text\n",
    "def tag_visible(element):\n",
    "    if element.parent.name in ['style', 'script', 'head', 'title', 'meta', '[document]']:\n",
    "        return False\n",
    "    #if element.parent.name in ['li']:\n",
    "        #return False\n",
    "    if isinstance(element, Comment):\n",
    "        return False\n",
    "    return True\n",
    "\n",
    "\n",
    "def text_from_html(body):\n",
    "    soup = BeautifulSoup(body, 'lxml')\n",
    "    texts = soup.find_all(text=True)\n",
    "    visible_texts = filter(tag_visible, texts)  \n",
    "    return u\" \".join(t.strip() for t in visible_texts)"
   ]
  },
  {
   "cell_type": "code",
   "execution_count": 40,
   "metadata": {},
   "outputs": [
    {
     "name": "stdout",
     "output_type": "stream",
     "text": [
      "https://www.cityofkingston.ca/c/portal/login?p_l_id=10183&redirect=/home\n",
      "https://www.cityofkingston.ca\n",
      "https://www.cityofkingston.ca/contact-us\n",
      "https://www.cityofkingston.ca/careers\n",
      "https://www.cityofkingston.ca/news-notices\n",
      "https://www.cityofkingston.ca/transit-trip-planner\n",
      "https://www.cityofkingston.ca/online-payments\n",
      "https://www.cityofkingston.ca/resident\n",
      "https://www.cityofkingston.ca/residents/accessibility\n",
      "https://www.cityofkingston.ca/residents/accessibility/access-award\n",
      "https://www.ygkairport.com/\n",
      "https://www.cityofkingston.ca/residents/animals-pets\n",
      "https://www.cityofkingston.ca/residents/animals-pets/regulations\n",
      "https://www.cityofkingston.ca/residents/animals-pets/responsible\n",
      "https://www.cityofkingston.ca/residents/animals-pets/wildlife\n",
      "https://www.cityofkingston.ca/residents/a-to-z-service\n",
      "https://www.cityofkingston.ca/resident/better-homes-kingston\n"
     ]
    }
   ],
   "source": [
    "soup = BeautifulSoup(html.text, 'lxml')\n",
    "links = []\n",
    "#clear inputs\n",
    "with open(\"input.txt\", 'w') as f:\n",
    "        f.write(\"\")\n",
    "\n",
    "for link in soup.find_all('a'):\n",
    "    links.append(link.get(\"href\"))\n",
    "for link in links[3:20]:\n",
    "    print(link)\n",
    "    page_html = requests.get(link,headers ={\"User Agent\": \"Custom\"})\n",
    "    #page_html_soup = BeautifulSoup(page_html.text, 'lxml')\n",
    "    with open(\"input.txt\", 'a', encoding=\"utf-8\") as f:\n",
    "        f.write(text_from_html(page_html.text))\n",
    "    "
   ]
  }
 ],
 "metadata": {
  "kernelspec": {
   "display_name": "pytorch",
   "language": "python",
   "name": "python3"
  },
  "language_info": {
   "codemirror_mode": {
    "name": "ipython",
    "version": 3
   },
   "file_extension": ".py",
   "mimetype": "text/x-python",
   "name": "python",
   "nbconvert_exporter": "python",
   "pygments_lexer": "ipython3",
   "version": "3.10.8"
  },
  "orig_nbformat": 4,
  "vscode": {
   "interpreter": {
    "hash": "505ce8bd22433779090605b3d7713fcb77c866ad382c4274ca8f0ac473d82586"
   }
  }
 },
 "nbformat": 4,
 "nbformat_minor": 2
}
