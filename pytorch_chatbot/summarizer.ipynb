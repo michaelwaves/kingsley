{
 "cells": [
  {
   "cell_type": "code",
   "execution_count": 1,
   "metadata": {},
   "outputs": [
    {
     "name": "stderr",
     "output_type": "stream",
     "text": [
      "c:\\Users\\micha\\miniconda3\\envs\\pytorch\\lib\\site-packages\\tqdm\\auto.py:22: TqdmWarning: IProgress not found. Please update jupyter and ipywidgets. See https://ipywidgets.readthedocs.io/en/stable/user_install.html\n",
      "  from .autonotebook import tqdm as notebook_tqdm\n"
     ]
    }
   ],
   "source": [
    "import torch\n",
    "from transformers import AutoTokenizer, AutoModelWithLMHead"
   ]
  },
  {
   "cell_type": "code",
   "execution_count": 9,
   "metadata": {},
   "outputs": [
    {
     "name": "stderr",
     "output_type": "stream",
     "text": [
      "c:\\Users\\micha\\miniconda3\\envs\\pytorch\\lib\\site-packages\\transformers\\models\\auto\\modeling_auto.py:1248: FutureWarning: The class `AutoModelWithLMHead` is deprecated and will be removed in a future version. Please use `AutoModelForCausalLM` for causal language models, `AutoModelForMaskedLM` for masked language models and `AutoModelForSeq2SeqLM` for encoder-decoder models.\n",
      "  warnings.warn(\n"
     ]
    }
   ],
   "source": [
    "tokenizer = AutoTokenizer.from_pretrained('t5-base', model_max_length=512)\n",
    "model = AutoModelWithLMHead.from_pretrained('t5-base', return_dict=True)\n"
   ]
  },
  {
   "cell_type": "code",
   "execution_count": 3,
   "metadata": {},
   "outputs": [],
   "source": [
    "sq= \"\"\"Many residents enjoy the love and companionship of pets and the City appreciates that domestic animals, such as dogs, cats and rabbits, are beloved members of the family in many households. The City's pet and animal regulations are intended to ensure the safety and well-being of pets – and to safeguard members of the community, including domestic pets, from unexpected encounters with wildlife and uncontrolled animals.\n",
    "\n",
    "Pets and other animals deserve our respect, kind consideration and responsible stewardship. \n",
    "\n",
    "Learn more about responsible pet ownership, including: \n",
    "\n",
    "How to license your pet \n",
    "Animal & Pet Control rules and frequently asked questions \n",
    "How to use off-leash dog parks \n",
    "How to properly keep backyard hens \n",
    " \n",
    "\n",
    "Cute brown rabbit\n",
    "Responsible Pet Ownership\n",
    "\n",
    "Raccoon reaching up\n",
    "Responding to Wildlife\n",
    "\n",
    " \n",
    "In Kingston, animal control is regulated by the City. To report dog and cat infractions email bylaw enforcement.\n",
    "\n",
    "Lost and Found Pets\n",
    "There are several resources available to pet owners who have lost a pet in the Kingston Area.\n",
    "\n",
    "You can contact the Kingston Humane Society with a photo and short description of the missing animal, or check if your animal has been found by calling 613-546-1291.\n",
    "\n",
    "You can also consider posting to a classified advertising service or a local lost and found pets group on social media or going door-to-door and sharing a photo of flyer in your neighbourhood.\n",
    "\n",
    "If you are caring for an animal that you believe is lost, you can drive it to the Kingston Humane Society.\n",
    "\n",
    "If you encounter an animal that you believe is lost, please do not approach the animal. Contact the City’s Bylaw Enforcement team at 613-546-4291 ext. 3135.\n",
    "\n",
    "Specifically for cats, if you notice a cat at large, or if you have identified a potentially feral cat, you can contact one of four groups for assistance in trapping and caring for the animal:The Forgotten Ferals\n",
    "For the Love of Ferals (Facebook Group affiliated with the City’s TNVR program)\n",
    "Kingston Animal Rescue\n",
    "Kendra’s Community Kitties \n",
    "Additional questions about animals and pets? \n",
    "View Animal & Pet Control FAQ's\"\"\""
   ]
  },
  {
   "cell_type": "code",
   "execution_count": 4,
   "metadata": {},
   "outputs": [],
   "source": [
    "seq= \"\"\"Recreational cannabis was legalized by the Government of Canada on Oct. 17, 2018. It is now legal for Ontarians 19 and older to possess and use cannabis (see Province of Ontario's cannabis legalization site). \n",
    "\n",
    "Like alcohol and tobacco, there are laws and bylaws that regulate the use of cannabis.\n",
    "\n",
    "Use the links below to explore cannabis-related regulations and topics. Ask your employer about workplace policies that may apply to cannabis.\n",
    "Where you can smoke cannabis is currently regulated by the Smoke Free Ontario Act but will be aligned with the City's Smoking Bylaw in November, this may bring changes to the list of locations where smoking cannabis is allowed. Public Health Officers provide enforcement on this matter. \n",
    "\n",
    "Where Cannabis can be smoked\n",
    "Private residences (not including private residences that are also workplaces) \n",
    "Many outdoor public places, such as sidewalks and parks\n",
    "Designated guest rooms in hotels, motels and inns \n",
    "Controlled areas in long-term care homes, certain retirement homes, provincially-funded supportive housing, psychiatric facilities, veterans' facilities and residential hospices \n",
    "Residential boats or vehicles fitted with permanent sleeping accommodations and cooking facilities when parked or anchored and they meet other criteria \n",
    "Where Cannabis cannot be smoked\n",
    "Enclosed public places, enclosed workplaces and other sheltered areas with a roof and more than two walls (such as bus shelters) \n",
    "Vehicles and boats being driven or under someone's care or control \n",
    "Indoor common areas in condominiums, apartment buildings and university/college residences \n",
    "Schools and school grounds, outdoor grounds of a community recreational facility and public areas within 20 metres of perimeter of those grounds \n",
    "Child care centres, and places where an early years program or services is provided \n",
    "Places where home child care is provided, regardless of whether children are present \n",
    "Children's playgrounds and public areas within 20 metres of playgrounds \n",
    "Publicly-owned sporting areas (not including golf courses), adjacent spectator areas and public areas within 20 metres of these areas \n",
    "Restaurant and bar patios and public areas within nine metres of a patio \n",
    "Nine metres from the entrance or exit of a public hospital, private hospital, psychiatric facility, long-term care home and independent health facility \n",
    "Outdoor ground of public hospitals, private hospitals, psychiatric facilities and specified Ontario government buildings. \n",
    "Reserved seating areas of outdoor sports or entertainment venues.\n",
    "Are there stores in Kingston where I can legally buy recreational cannabis?\n",
    "Yes. There are a number of retail stores legally selling cannabis in Kingston.  This is the Province of Ontario's page for finding a retail cannabis location.\n",
    "\n",
    "Can the City decide how many and where retail cannabis outlets may be located?\n",
    "No. Municipalities do not have the ability to license or implement zoning provisions for cannabis retailers. The Province of Ontario issues licences for cannabis retailers and determines location restrictions, such as proximity to sensitive uses.\n",
    "\n",
    "Can recreational cannabis retailers obtain a licence to operate from the City?\n",
    "No. Licence applications will be submitted to, reviewed by and granted by the Province of Ontario.\n",
    "\"\"\""
   ]
  },
  {
   "cell_type": "code",
   "execution_count": 10,
   "metadata": {},
   "outputs": [],
   "source": [
    "sequence = \"\"\"We will put 50 percent of our money in index funds and ETFs and 20 perceny in bonds. 10 percent of our portfolio will be in cash to act as maintenance margin. 20% will be in individual stocks, which will be chosen based on both a small cap GARP strategy with contrarian rationales and a defensive large cap strategy.\n",
    "Strategy 1 Contrarian Small Cap GARP\n",
    "This is because large and medium stocks will be largely accounted for in index funds and ETFs, and we wish to lower the correlation from our base and satellite portfolios. From a top down perspective, we are in a recession and pandemic, and growth firms benefit from increased uncertainty. Furthermore, many large tech companies are laying off staff and shelving projects. At the same time, we are on the verge of commercializing many interesting technologies like AI, fusion power, and full self-driving vehicles. Even though rising interest rates temporarily lower the valuations of growth companies, nothing fundamental about these companies and their technologies has changed. We will choose stocks that has a market capitalization between $250M and $1B, growth of EBITDA > 5 percent, and are within 20 percent of the 52 week low.\"\"\"\n"
   ]
  },
  {
   "cell_type": "code",
   "execution_count": 11,
   "metadata": {},
   "outputs": [],
   "source": [
    "inputs = tokenizer.encode(\"summarize:\" +sequence, return_tensors='pt',max_length=512, truncation=True)\n"
   ]
  },
  {
   "cell_type": "code",
   "execution_count": 18,
   "metadata": {},
   "outputs": [],
   "source": [
    "outputs = model.generate(inputs, max_length=350, min_length=150, length_penalty=0, num_beams=2)"
   ]
  },
  {
   "cell_type": "code",
   "execution_count": 19,
   "metadata": {},
   "outputs": [
    {
     "name": "stdout",
     "output_type": "stream",
     "text": [
      "<pad> 50 percent of our money will be in index funds and ETFs and 20 perceny in bonds. 10 percent of our portfolio will be in cash to act as maintenance margin. 20% will be in individual stocks, which will be chosen based on a small cap GARP strategy. growth firms benefit from increased uncertainty, and many large tech companies are laying off staff & shelving projects. despite rising interest rates temporarily lower the valuations of growth companies, nothing fundamental about these companies has changed - cnn<extra_id_1><extra_id_1><extra_id_1><extra_id_1> <extra_id_1> <extra_id_1> <extra_id_1> <extra_id_1> <extra_id_1> <extra_id_1> <extra_id_1> <extra_id_1> <extra_id_1> <extra_id_1> <extra_id_1> <extra_id_1> <extra_id_1> <extra_id_1> <extra_id_1> <extra_id_1></s>\n"
     ]
    }
   ],
   "source": [
    "summary = tokenizer.decode(outputs[0])\n",
    "print(summary)"
   ]
  }
 ],
 "metadata": {
  "kernelspec": {
   "display_name": "pytorch",
   "language": "python",
   "name": "python3"
  },
  "language_info": {
   "codemirror_mode": {
    "name": "ipython",
    "version": 3
   },
   "file_extension": ".py",
   "mimetype": "text/x-python",
   "name": "python",
   "nbconvert_exporter": "python",
   "pygments_lexer": "ipython3",
   "version": "3.10.8"
  },
  "orig_nbformat": 4,
  "vscode": {
   "interpreter": {
    "hash": "505ce8bd22433779090605b3d7713fcb77c866ad382c4274ca8f0ac473d82586"
   }
  }
 },
 "nbformat": 4,
 "nbformat_minor": 2
}
